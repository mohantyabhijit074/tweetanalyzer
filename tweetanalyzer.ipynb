{
 "cells": [
  {
   "cell_type": "code",
   "execution_count": 1,
   "metadata": {},
   "outputs": [],
   "source": [
    "import twitter\n",
    "import oauth2 as authenticate\n",
    "import json"
   ]
  },
  {
   "cell_type": "code",
   "execution_count": 2,
   "metadata": {},
   "outputs": [],
   "source": [
    "import tweepy\n"
   ]
  },
  {
   "cell_type": "code",
   "execution_count": 3,
   "metadata": {},
   "outputs": [],
   "source": [
    "api=twitter.Api()"
   ]
  },
  {
   "cell_type": "code",
   "execution_count": 9,
   "metadata": {},
   "outputs": [],
   "source": [
   ]
  },
  {
   "cell_type": "code",
   "execution_count": 15,
   "metadata": {},
   "outputs": [],
   "source": [
    "api1 = twitter.Api(consumer_key=CONSUMER_KEY, consumer_secret=CONSUMER_SECRET,\n",
    "                  access_token_key=ACCESS_KEY, access_token_secret=ACCESS_SECRET)"
   ]
  },
  {
   "cell_type": "code",
   "execution_count": 16,
   "metadata": {},
   "outputs": [
    {
     "name": "stdout",
     "output_type": "stream",
     "text": [
      "Following List: [\"Shreyas's\", 'Afif', 'TheBoredJedi', 'ANURAG', 'Soumik Mukherjee', 'Drishti Hoskote', 'Vishnu Erapalli', 'SAI THEJAS', 'Rehan Vipin', 'Prateek Nayak', 'Ish Bosamiya', 'Devesha Reddy', 'Aman Lekhwar', 'Amrit Raj', 'Adhwaith Menon', 'Rajdeep Sengupta']\n"
     ]
    }
   ],
   "source": [
    "#listing all my friends followers and whom i am following\n",
    "users = api1.GetFriends()\n",
    "print(\"Following List:\", [u.name for u in users])\n",
    "#user following list"
   ]
  },
  {
   "cell_type": "code",
   "execution_count": 17,
   "metadata": {},
   "outputs": [
    {
     "name": "stdout",
     "output_type": "stream",
     "text": [
      "Followers List: ['TheBoredJedi', 'Adhwaith Menon', 'Vishnu Erapalli', 'Prateek Nayak', 'Ish Bosamiya', 'Rajdeep Sengupta']\n"
     ]
    }
   ],
   "source": [
    "followers = api1.GetFollowers()\n",
    "print(\"Followers List:\", [ele.name for ele in followers])"
   ]
  },
  {
   "cell_type": "code",
   "execution_count": 22,
   "metadata": {},
   "outputs": [],
   "source": [
    "# Authenticating the user using the keys obtained in the app details(different approach)\n",
    "auth = tweepy.OAuthHandler(consumer_key, consumer_secret)\n",
    "auth.set_access_token(access_token, access_token_secret)\n",
    "\n",
    "api = tweepy.API(auth)"
   ]
  },
  {
   "cell_type": "code",
   "execution_count": 23,
   "metadata": {},
   "outputs": [
    {
     "name": "stdout",
     "output_type": "stream",
     "text": [
      "Liked post Names: ['IEEE', 'Rajnath Singh', 'BCCI', 'ElementGames', 'Amrit Raj']\n"
     ]
    }
   ],
   "source": [
    "#liked tweets\n",
    "likes = api1.GetFavorites()\n",
    "print(\"Liked post Names:\", [like.AsDict()['user']['name'] for like in likes])"
   ]
  },
  {
   "cell_type": "code",
   "execution_count": 25,
   "metadata": {},
   "outputs": [
    {
     "name": "stdout",
     "output_type": "stream",
     "text": [
      "@SSBCrack The best platform to learn and get updated about the defence related news,#defencebrat.\n",
      "@IAF_MCC A son of Air force personnel can understand the hard work these people do for our safety.happy air force day to all.\n",
      "Look, I'm tweeting from #Python in my #datascience class!\n",
      "Nerd jokes are the best 😂 https://t.co/BJeXhbUFVw\n",
      "Really useful! https://t.co/Si5kUC7UwK\n",
      "1. First language: QBasic\n",
      "2. Had difficulties: Understanding pointers initially\n",
      "3. Most used: C/C++/Python\n",
      "4. Total… https://t.co/qKHaGg1Iqr\n",
      "RT @DevonLFilms: Here's some more slow motion action!#VIDEO #slowmotion #cool #epic #awesome #quick #film #sparks #dark https://t.co/ttfiyN…\n",
      "RT @ElementGamesTV: Thoughts on Cain Velasquez's debut on #Smackdown ?\n",
      "\n",
      "Brock must be getting flash backs right about now https://t.co/a0Iw…\n",
      "RT @iimcomic: iPhone 11 Pro Max is the most environmentally friendly phone ever.\n",
      "\n",
      "Once you buy it, you’ll have no money left to buy anythin…\n",
      "RT @EveryApplePro: iOS 13.2 has some cool surprises! All the features &amp; changes, including the AirPods 3 design leak! https://t.co/Erauw7Ys…\n",
      "RT @AndrewProjDent: Indoor AR navigation speed run!\n",
      "\n",
      "It's taken innovations in mapping, indoor positioning and AR experience to arrive here…\n",
      "RT @TheRujiK: Here is a QUICK explanation for my procedural animations that several people asked for. Hope it helps! #gamemaker #procgen ht…\n",
      "I wanted to do some Blender addon development, so natural tendency is to use Emacs. I cannot believe how easy it wa… https://t.co/lcBX4vhkmK\n",
      "RT @Tesla: Do you ever dream of a day when it’s not ‘electric vehicle’, it’s just ‘vehicle’\n",
      "RT @KicchafansKKSFA: How cute is this..\n",
      "\n",
      "@KicchaSudeep @iswapnakrishna @krisshdop @iampriya06 @PailwaanMovie @aakanksha_s30 https://t.co/hX…\n",
      "RT @Shreyas73020727: @PMOIndia \n",
      "Sir , am very sorry to see this from you as our beloved Prime Minister !\n",
      "Why are you Neglecting KARNATAKA ?…\n",
      "RT @tldtoday: Sup Tim Apple 🍎 \n",
      "\n",
      "https://t.co/bEy5pnXkGV https://t.co/s6BCZP25qj\n",
      "Blender is taking over!\n",
      "Great work @simonthommes https://t.co/qmchYwV34H\n",
      "RT @BillGates: I am hopeful that we can substantially alter the course of Alzheimer’s disease. This World Alzheimer’s Day, join me in suppo…\n"
     ]
    }
   ],
   "source": [
    "# Authenticating the user using the keys obtained in the app details\n",
    "user = authenticate.Consumer(key=consumer_key, secret=consumer_secret)\n",
    "access = authenticate.Token(key=access_token, secret=access_token_secret)\n",
    "client = authenticate.Client(user, access)\n",
    "# Requesting access to the home timeline of the user using the key details\n",
    "timeline = \"https://api.twitter.com/1.1/statuses/home_timeline.json\"\n",
    "response, data = client.request(timeline)\n",
    "# Loading data from the json file and printing the tweets\n",
    "tweets = json.loads(data)\n",
    "for tweet in tweets:\n",
    "    print(tweet['text'])\n",
    "\n"
   ]
  },
  {
   "cell_type": "code",
   "execution_count": 26,
   "metadata": {},
   "outputs": [
    {
     "name": "stdout",
     "output_type": "stream",
     "text": [
      "[Status(ID=1181537178037284864, ScreenName=abhijit_1810, Created=Tue Oct 08 11:49:49 +0000 2019, Text='@SSBCrack The best platform to learn and get updated about the defence related news,#defencebrat.'), Status(ID=1181536213125091328, ScreenName=abhijit_1810, Created=Tue Oct 08 11:45:59 +0000 2019, Text='@IAF_MCC A son of Air force personnel can understand the hard work these people do for our safety.happy air force day to all.'), Status(ID=1181516593357963264, ScreenName=Rajdeep2121, Created=Tue Oct 08 10:28:02 +0000 2019, Text=\"Look, I'm tweeting from #Python in my #datascience class!\"), Status(ID=1181251703376531456, ScreenName=OnionSomething, Created=Mon Oct 07 16:55:27 +0000 2019, Text='Nerd jokes are the best 😂 https://t.co/BJeXhbUFVw'), Status(ID=1181119643567587328, ScreenName=ishbosamiya, Created=Mon Oct 07 08:10:41 +0000 2019, Text='Really useful! https://t.co/Si5kUC7UwK'), Status(ID=1180504124065890305, ScreenName=ishbosamiya, Created=Sat Oct 05 15:24:50 +0000 2019, Text='1. First language: QBasic\\n2. Had difficulties: Understanding pointers initially\\n3. Most used: C/C++/Python\\n4. Total… https://t.co/qKHaGg1Iqr'), Status(ID=1180395808773926912, ScreenName=Rajdeep2121, Created=Sat Oct 05 08:14:26 +0000 2019, Text=\"RT @DevonLFilms: Here's some more slow motion action!#VIDEO #slowmotion #cool #epic #awesome #quick #film #sparks #dark https://t.co/ttfiyN…\"), Status(ID=1180392784680742913, ScreenName=Rajdeep2121, Created=Sat Oct 05 08:02:25 +0000 2019, Text=\"RT @ElementGamesTV: Thoughts on Cain Velasquez's debut on #Smackdown ?\\n\\nBrock must be getting flash backs right about now https://t.co/a0Iw…\"), Status(ID=1179591073317806081, ScreenName=jedi_bored, Created=Thu Oct 03 02:56:42 +0000 2019, Text='RT @iimcomic: iPhone 11 Pro Max is the most environmentally friendly phone ever.\\n\\nOnce you buy it, you’ll have no money left to buy anythin…'), Status(ID=1179577407826608128, ScreenName=Rajdeep2121, Created=Thu Oct 03 02:02:24 +0000 2019, Text='RT @EveryApplePro: iOS 13.2 has some cool surprises! All the features &amp; changes, including the AirPods 3 design leak! https://t.co/Erauw7Ys…'), Status(ID=1178624590311903234, ScreenName=Rajdeep2121, Created=Mon Sep 30 10:56:14 +0000 2019, Text=\"RT @AndrewProjDent: Indoor AR navigation speed run!\\n\\nIt's taken innovations in mapping, indoor positioning and AR experience to arrive here…\"), Status(ID=1178118407440367616, ScreenName=ishbosamiya, Created=Sun Sep 29 01:24:51 +0000 2019, Text='RT @TheRujiK: Here is a QUICK explanation for my procedural animations that several people asked for. Hope it helps! #gamemaker #procgen ht…'), Status(ID=1177114510106038273, ScreenName=ishbosamiya, Created=Thu Sep 26 06:55:43 +0000 2019, Text='I wanted to do some Blender addon development, so natural tendency is to use Emacs. I cannot believe how easy it wa… https://t.co/lcBX4vhkmK'), Status(ID=1177035252457332736, ScreenName=jedi_bored, Created=Thu Sep 26 01:40:47 +0000 2019, Text='RT @Tesla: Do you ever dream of a day when it’s not ‘electric vehicle’, it’s just ‘vehicle’'), Status(ID=1177023400960593921, ScreenName=Shreyas73020727, Created=Thu Sep 26 00:53:41 +0000 2019, Text='RT @KicchafansKKSFA: How cute is this..\\n\\n@KicchaSudeep @iswapnakrishna @krisshdop @iampriya06 @PailwaanMovie @aakanksha_s30 https://t.co/hX…'), Status(ID=1176888711046262784, ScreenName=Shreyas73020727, Created=Wed Sep 25 15:58:28 +0000 2019, Text='RT @Shreyas73020727: @PMOIndia \\nSir , am very sorry to see this from you as our beloved Prime Minister !\\nWhy are you Neglecting KARNATAKA ?…'), Status(ID=1176676507688652800, ScreenName=jedi_bored, Created=Wed Sep 25 01:55:15 +0000 2019, Text='RT @tldtoday: Sup Tim Apple 🍎 \\n\\nhttps://t.co/bEy5pnXkGV https://t.co/s6BCZP25qj'), Status(ID=1175948599869362176, ScreenName=ishbosamiya, Created=Mon Sep 23 01:42:48 +0000 2019, Text='Blender is taking over!\\nGreat work @simonthommes https://t.co/qmchYwV34H'), Status(ID=1175948185962856448, ScreenName=jedi_bored, Created=Mon Sep 23 01:41:10 +0000 2019, Text='RT @BillGates: I am hopeful that we can substantially alter the course of Alzheimer’s disease. This World Alzheimer’s Day, join me in suppo…')]\n"
     ]
    }
   ],
   "source": [
    "x=api1.GetHomeTimeline()#hometimeline different approach\n",
    "print(x)"
   ]
  },
  {
   "cell_type": "code",
   "execution_count": 39,
   "metadata": {},
   "outputs": [
    {
     "name": "stdout",
     "output_type": "stream",
     "text": [
      "Abhijit Mohanty said @SSBCrack The best platform to learn and get updated about the defence related news,#defencebrat.\n",
      "Abhijit Mohanty said @IAF_MCC A son of Air force personnel can understand the hard work these people do for our safety.happy air force day to all.\n",
      "Rajdeep Sengupta said Look, I'm tweeting from #Python in my #datascience class!\n",
      "Prateek Nayak said Nerd jokes are the best 😂 https://t.co/BJeXhbUFVw\n",
      "Ish Bosamiya said Really useful! https://t.co/Si5kUC7UwK\n",
      "Ish Bosamiya said 1. First language: QBasic\n",
      "2. Had difficulties: Understanding pointers initially\n",
      "3. Most used: C/C++/Python\n",
      "4. Total… https://t.co/qKHaGg1Iqr\n",
      "Rajdeep Sengupta said RT @DevonLFilms: Here's some more slow motion action!#VIDEO #slowmotion #cool #epic #awesome #quick #film #sparks #dark https://t.co/ttfiyN…\n",
      "Rajdeep Sengupta said RT @ElementGamesTV: Thoughts on Cain Velasquez's debut on #Smackdown ?\n",
      "\n",
      "Brock must be getting flash backs right about now https://t.co/a0Iw…\n",
      "TheBoredJedi said RT @iimcomic: iPhone 11 Pro Max is the most environmentally friendly phone ever.\n",
      "\n",
      "Once you buy it, you’ll have no money left to buy anythin…\n",
      "Rajdeep Sengupta said RT @EveryApplePro: iOS 13.2 has some cool surprises! All the features &amp; changes, including the AirPods 3 design leak! https://t.co/Erauw7Ys…\n",
      "Rajdeep Sengupta said RT @AndrewProjDent: Indoor AR navigation speed run!\n",
      "\n",
      "It's taken innovations in mapping, indoor positioning and AR experience to arrive here…\n",
      "Ish Bosamiya said RT @TheRujiK: Here is a QUICK explanation for my procedural animations that several people asked for. Hope it helps! #gamemaker #procgen ht…\n",
      "Ish Bosamiya said I wanted to do some Blender addon development, so natural tendency is to use Emacs. I cannot believe how easy it wa… https://t.co/lcBX4vhkmK\n",
      "TheBoredJedi said RT @Tesla: Do you ever dream of a day when it’s not ‘electric vehicle’, it’s just ‘vehicle’\n",
      "Shreyas's said RT @KicchafansKKSFA: How cute is this..\n",
      "\n",
      "@KicchaSudeep @iswapnakrishna @krisshdop @iampriya06 @PailwaanMovie @aakanksha_s30 https://t.co/hX…\n",
      "Shreyas's said RT @Shreyas73020727: @PMOIndia \n",
      "Sir , am very sorry to see this from you as our beloved Prime Minister !\n",
      "Why are you Neglecting KARNATAKA ?…\n",
      "TheBoredJedi said RT @tldtoday: Sup Tim Apple 🍎 \n",
      "\n",
      "https://t.co/bEy5pnXkGV https://t.co/s6BCZP25qj\n",
      "Ish Bosamiya said Blender is taking over!\n",
      "Great work @simonthommes https://t.co/qmchYwV34H\n",
      "TheBoredJedi said RT @BillGates: I am hopeful that we can substantially alter the course of Alzheimer’s disease. This World Alzheimer’s Day, join me in suppo…\n",
      "******************************************************************************************\n",
      "@MajorPoonia Thank you sir for sharing your insights, it was an absolute honour speaking with you Jai Hind!… https://t.co/e9ZvNyfKVa\n",
      "Inspired form @narendramodi\n",
      "Ji \n",
      "Meet The Former Special Forces Doctor @MajorPoonia Who is Waging a One Man War Agai… https://t.co/WmsY78idjq\n",
      "#LtGenRanbirSingh, #ArmyCdrNC and all ranks salute the supreme sacrifice of Naik Rajendra Singh and offer deepest c… https://t.co/Mkfmh4m7Hs\n"
     ]
    }
   ],
   "source": [
    "public_tweets = api.home_timeline()\n",
    "for tweet in public_tweets:\n",
    "    print(\"{} said {}\".format(tweet.user.name, tweet.text))\n",
    "#these are the tweets of my followers and whom i am following in a different approach from above\n",
    "print(\"******************************************************************************************\")\n",
    "public_tweets = api.user_timeline(screen_name=\"@SSBCrack\",count=25,page=1,include_rts=True)\n",
    "all_items=[]\n",
    "[all_items.append(i) for i in public_tweets]\n",
    "\n",
    "for i in all_items:\n",
    "    try:\n",
    "        if i.retweeted_status:\n",
    "            print(i.retweeted_status.text)\n",
    "    except:\n",
    "        pass\n",
    "#these are the retweets for a particular user"
   ]
  },
  {
   "cell_type": "code",
   "execution_count": 44,
   "metadata": {},
   "outputs": [
    {
     "name": "stdout",
     "output_type": "stream",
     "text": [
      "TheBoredJedi\n",
      "Just looking for my way in the universe...\n",
      "Karnataka, India\n",
      "jedi_bored\n",
      "10\n",
      "998077692435095553\n",
      "**************\n",
      "Adhwaith Menon\n",
      "\n",
      "\n",
      "AdhwaithMenon\n",
      "2\n",
      "1178868121995661313\n",
      "**************\n",
      "Vishnu Erapalli\n",
      "\n",
      "Bengaluru, India\n",
      "ErapalliVishnu\n",
      "13\n",
      "1178865431995535360\n",
      "**************\n",
      "Prateek Nayak\n",
      "Computer Science Student. Interested in: Cryptography, Traffic Analysis Resistant Communication Network, Onion, OSS\n",
      "\n",
      "OnionSomething\n",
      "14\n",
      "1147734725668163584\n",
      "**************\n",
      "Ish Bosamiya\n",
      "Computer Graphics Programmer, 3D Enthusiast, Student, Game Developer, Designer, @blender_org Developer\n",
      "Somewhere in Space\n",
      "ishbosamiya\n",
      "178\n",
      "4433486239\n",
      "**************\n",
      "Rajdeep Sengupta\n",
      "Studying Computer Science at PES University, Bangalore\n",
      "Bangalore\n",
      "Rajdeep2121\n",
      "23\n",
      "1004000053487230976\n",
      "**************\n"
     ]
    }
   ],
   "source": [
    "#users members details\n",
    "import tweepy\n",
    "auth = tweepy.OAuthHandler(consumer_key, consumer_secret)\n",
    "auth.set_access_token(access_token, access_token_secret)\n",
    "\n",
    "api = tweepy.API(auth)\n",
    "for friend in tweepy.Cursor(api.followers).items():\n",
    "        # Process the friend here\n",
    "        # process_friend(friend)\n",
    "        print(friend.name)\n",
    "        print(friend.description)\n",
    "        print(friend.location)\n",
    "        print(friend.screen_name)\n",
    "        print(friend.followers_count)\n",
    "        print(friend.id)\n",
    "        print(\"**************\")"
   ]
  },
  {
   "cell_type": "code",
   "execution_count": 35,
   "metadata": {},
   "outputs": [
    {
     "name": "stdout",
     "output_type": "stream",
     "text": [
      "[{'name': '#AskSRK', 'url': 'http://twitter.com/search?q=%23AskSRK', 'promoted_content': None, 'query': '%23AskSRK', 'tweet_volume': 60229}, {'name': '#HappyDussehra', 'url': 'http://twitter.com/search?q=%23HappyDussehra', 'promoted_content': None, 'query': '%23HappyDussehra', 'tweet_volume': 163714}, {'name': '#BigilTrailer', 'url': 'http://twitter.com/search?q=%23BigilTrailer', 'promoted_content': None, 'query': '%23BigilTrailer', 'tweet_volume': 143020}, {'name': '#Asuran', 'url': 'http://twitter.com/search?q=%23Asuran', 'promoted_content': None, 'query': '%23Asuran', 'tweet_volume': 37124}, {'name': '#Rafale', 'url': 'http://twitter.com/search?q=%23Rafale', 'promoted_content': None, 'query': '%23Rafale', 'tweet_volume': 28838}, {'name': '#LongLiveAjithFamily', 'url': 'http://twitter.com/search?q=%23LongLiveAjithFamily', 'promoted_content': None, 'query': '%23LongLiveAjithFamily', 'tweet_volume': 15578}, {'name': '#ProstituteVijay', 'url': 'http://twitter.com/search?q=%23ProstituteVijay', 'promoted_content': None, 'query': '%23ProstituteVijay', 'tweet_volume': 21418}, {'name': '#4YrsForWarriorGonaGannaReddy', 'url': 'http://twitter.com/search?q=%234YrsForWarriorGonaGannaReddy', 'promoted_content': None, 'query': '%234YrsForWarriorGonaGannaReddy', 'tweet_volume': 32128}, {'name': '#PioliOut', 'url': 'http://twitter.com/search?q=%23PioliOut', 'promoted_content': None, 'query': '%23PioliOut', 'tweet_volume': 39036}, {'name': '#asvr1stanniversarycdp', 'url': 'http://twitter.com/search?q=%23asvr1stanniversarycdp', 'promoted_content': None, 'query': '%23asvr1stanniversarycdp', 'tweet_volume': 11071}, {'name': '#ateez_wonderland', 'url': 'http://twitter.com/search?q=%23ateez_wonderland', 'promoted_content': None, 'query': '%23ateez_wonderland', 'tweet_volume': 161190}]\n",
      "*********************************************************************************************************\n",
      "[{'name': '#Rafale', 'url': 'http://twitter.com/search?q=%23Rafale', 'promoted_content': None, 'query': '%23Rafale', 'tweet_volume': 28838}, {'name': '#BigilTrailerOnOct12', 'url': 'http://twitter.com/search?q=%23BigilTrailerOnOct12', 'promoted_content': None, 'query': '%23BigilTrailerOnOct12', 'tweet_volume': 52299}, {'name': '#LongLiveAjithFamily', 'url': 'http://twitter.com/search?q=%23LongLiveAjithFamily', 'promoted_content': None, 'query': '%23LongLiveAjithFamily', 'tweet_volume': 15578}, {'name': '#ProstituteVijay', 'url': 'http://twitter.com/search?q=%23ProstituteVijay', 'promoted_content': None, 'query': '%23ProstituteVijay', 'tweet_volume': 21418}, {'name': '#4YrsForWarriorGonaGannaReddy', 'url': 'http://twitter.com/search?q=%234YrsForWarriorGonaGannaReddy', 'promoted_content': None, 'query': '%234YrsForWarriorGonaGannaReddy', 'tweet_volume': 32128}, {'name': '#PioliOut', 'url': 'http://twitter.com/search?q=%23PioliOut', 'promoted_content': None, 'query': '%23PioliOut', 'tweet_volume': 39036}, {'name': '#asvr1stanniversarycdp', 'url': 'http://twitter.com/search?q=%23asvr1stanniversarycdp', 'promoted_content': None, 'query': '%23asvr1stanniversarycdp', 'tweet_volume': 11071}, {'name': '#ateez_wonderland', 'url': 'http://twitter.com/search?q=%23ateez_wonderland', 'promoted_content': None, 'query': '%23ateez_wonderland', 'tweet_volume': 161190}]\n"
     ]
    }
   ],
   "source": [
    "location_id = \"2295420\" #Bangalore\n",
    "\n",
    "temp = api.trends_place(location_id)\n",
    "\n",
    "trending_hashtags_bangalore = [x for x in temp[0][\"trends\"] if x[\"name\"].startswith(\"#\") and x[\"tweet_volume\"] is not None]\n",
    "#for trending tweets in bangalore\n",
    "print(trending_hashtags_bangalore)\n",
    "location_id = \"23424848\" # India\n",
    "print(\"*********************************************************************************************************\")\n",
    "temp = api.trends_place(location_id)\n",
    "\n",
    "trending_hashtags_india = [x for x in temp[0][\"trends\"] if x[\"name\"].startswith(\"#\") and x[\"tweet_volume\"] is not None]\n",
    "#for trending tweets in bangalore\n",
    "\n",
    "print(trending_hashtags_india)"
   ]
  },
  {
   "cell_type": "code",
   "execution_count": 42,
   "metadata": {},
   "outputs": [
    {
     "name": "stdout",
     "output_type": "stream",
     "text": [
      "[]\n"
     ]
    }
   ],
   "source": [
    "public_tweets = api.home_timeline()\n",
    "for tweet in public_tweets:\n",
    "    links = [link for link in tweet.text.split() if link.startswith(\"https://\")]\n",
    "#for getting links empty means i have no link in my tweets till now\n",
    "print(links)"
   ]
  },
  {
   "cell_type": "code",
   "execution_count": null,
   "metadata": {},
   "outputs": [],
   "source": []
  }
 ],
 "metadata": {
  "kernelspec": {
   "display_name": "Python 3",
   "language": "python",
   "name": "python3"
  },
  "language_info": {
   "codemirror_mode": {
    "name": "ipython",
    "version": 3
   },
   "file_extension": ".py",
   "mimetype": "text/x-python",
   "name": "python",
   "nbconvert_exporter": "python",
   "pygments_lexer": "ipython3",
   "version": "3.7.3"
  }
 },
 "nbformat": 4,
 "nbformat_minor": 2
}
